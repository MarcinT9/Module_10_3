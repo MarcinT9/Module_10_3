{
 "cells": [
  {
   "cell_type": "code",
   "execution_count": 2,
   "id": "85b6b005",
   "metadata": {},
   "outputs": [],
   "source": [
    "# manipulacja danymi\n",
    "import numpy as np\n",
    "import pandas as pd\n",
    "\n",
    "# wizualizacja danych\n",
    "import matplotlib.pyplot as plt\n",
    "import seaborn as sns\n",
    "\n",
    "# statystyczna analiza danych\n",
    "from scipy import stats\n",
    "\n",
    "# przygotowanie danych\n",
    "from sklearn.preprocessing import StandardScaler, MinMaxScaler"
   ]
  },
  {
   "cell_type": "markdown",
   "id": "515f754d",
   "metadata": {},
   "source": [
    "Stwórz dane z rozkładu normalnego o średniej 3 i odchyleniu standardowym 1 dla 100 oraz 10 000. "
   ]
  },
  {
   "cell_type": "code",
   "execution_count": 3,
   "id": "15675156",
   "metadata": {},
   "outputs": [
    {
     "data": {
      "text/plain": [
       "array([2.12936696, 4.6940186 , 1.78544442, 2.17427079, 3.1293791 ,\n",
       "       2.69164909, 4.32194261, 2.48629143, 3.17737305, 1.91860095,\n",
       "       3.28701318, 3.07136231, 4.56929863, 3.25126292, 3.68400541,\n",
       "       2.88058806, 4.22106545, 1.45971714, 3.45798421, 1.77816192,\n",
       "       3.83635805, 2.861876  , 4.85649967, 2.74135766, 1.49763695,\n",
       "       2.229907  , 3.34800935, 4.8712821 , 2.55375092, 2.75864698,\n",
       "       2.16874219, 2.83622682, 3.4512842 , 2.52520101, 2.44677126,\n",
       "       3.28884782, 3.29556009, 3.63125569, 4.42796043, 3.09530948,\n",
       "       4.42138094, 2.18917927, 3.19182329, 1.28512967, 2.13713284,\n",
       "       2.79142381, 2.86775553, 3.72867773, 1.6722297 , 2.57409816,\n",
       "       2.93913656, 3.06434034, 3.28454018, 2.19536875, 3.73073908,\n",
       "       3.26094769, 3.49849793, 4.33359926, 2.51510501, 3.49317734,\n",
       "       2.38228406, 2.52231156, 2.51328206, 3.01532113, 2.7772068 ,\n",
       "       3.45716428, 0.85038164, 1.1648979 , 2.31792334, 3.13969185,\n",
       "       2.64735516, 3.55372444, 3.82013834, 0.75818932, 2.89906523,\n",
       "       3.6757715 , 5.25402079, 3.48542763, 3.86824574, 5.11612536,\n",
       "       3.81619172, 4.55744046, 2.79722792, 2.91878063, 3.50645785,\n",
       "       4.06639324, 1.99413872, 3.79234381, 2.13914333, 2.48155786,\n",
       "       2.63505426, 2.6926171 , 3.68309207, 3.69351087, 1.96119444,\n",
       "       3.24281155, 3.35291098, 2.60927328, 3.0112387 , 4.44651592])"
      ]
     },
     "execution_count": 3,
     "metadata": {},
     "output_type": "execute_result"
    }
   ],
   "source": [
    "x = np.random.normal(3,1,100)\n",
    "x"
   ]
  },
  {
   "cell_type": "code",
   "execution_count": 4,
   "id": "46edc700",
   "metadata": {},
   "outputs": [
    {
     "data": {
      "text/plain": [
       "array([1.7222029 , 2.76193539, 2.70129776, ..., 4.10163714, 1.55904421,\n",
       "       4.62789837])"
      ]
     },
     "execution_count": 4,
     "metadata": {},
     "output_type": "execute_result"
    }
   ],
   "source": [
    "x2= np.random.normal(3,1,10000)\n",
    "x2"
   ]
  },
  {
   "cell_type": "markdown",
   "id": "4fa97533",
   "metadata": {},
   "source": [
    "Na podstawie tych sztucznie stworzonych zbiorów oblicz statystyki poznane w module statystki opisowej. "
   ]
  },
  {
   "cell_type": "code",
   "execution_count": 5,
   "id": "0be1101a",
   "metadata": {},
   "outputs": [
    {
     "name": "stdout",
     "output_type": "stream",
     "text": [
      "Średnia z danych x wynosi: 3.046819858611597\n",
      "Mediana z danych x wynosi: 3.039830739566798\n",
      "Moda z danych x wynosi: ModeResult(mode=array([0.75818932]), count=array([1]))\n",
      "Q0: 0.7581893206627139\n",
      "Q1: 2.506534403624933\n",
      "Q2: 3.039830739566798\n",
      "Q3: 3.6423846433317686\n",
      "Q4: 5.254020788527502\n",
      "Zakres z danych x wynosi: 4.495831467864788\n",
      "Rozstęp międzykwartlany z danych x wynosi: 1.1358502397068357\n",
      "Wariancja z danych x wynosi: 0.8480043046432836\n",
      "Odchylenie standardowe z danych x wynosi: 0.9208714919266877\n"
     ]
    },
    {
     "name": "stderr",
     "output_type": "stream",
     "text": [
      "C:\\Users\\Marcin\\AppData\\Local\\Temp\\ipykernel_13300\\2360286609.py:7: FutureWarning: Unlike other reduction functions (e.g. `skew`, `kurtosis`), the default behavior of `mode` typically preserves the axis it acts along. In SciPy 1.11.0, this behavior will change: the default value of `keepdims` will become False, the `axis` over which the statistic is taken will be eliminated, and the value None will no longer be accepted. Set `keepdims` to True or False to avoid this warning.\n",
      "  moda_x = stats.mode(x)\n"
     ]
    }
   ],
   "source": [
    "mean_x = np.mean(x)\n",
    "print(f'Średnia z danych x wynosi: {mean_x}')\n",
    "\n",
    "median_x = np.median(x)\n",
    "print(f'Mediana z danych x wynosi: {median_x}')\n",
    "\n",
    "moda_x = stats.mode(x)\n",
    "print(f'Moda z danych x wynosi: {moda_x}')\n",
    "\n",
    "q0_x = np.quantile(x, 0.0)\n",
    "q1_x = np.quantile(x, 0.25)\n",
    "q3_x = np.quantile(x, 0.75)\n",
    "q4_x = np.quantile(x, 1.0)\n",
    "print(f'Q0: {q0_x}')\n",
    "print(f'Q1: {q1_x}')\n",
    "print(f'Q2: {median_x}')\n",
    "print(f'Q3: {q3_x}')\n",
    "print(f'Q4: {q4_x}')\n",
    "\n",
    "range_x = max(x) - min(x)\n",
    "print(f'Zakres z danych x wynosi: {range_x}')\n",
    "\n",
    "iqr_x = q3_x - q1_x\n",
    "print(f'Rozstęp międzykwartlany z danych x wynosi: {iqr_x}')\n",
    "\n",
    "variance_x = np.var(x, ddof=1)\n",
    "print(f'Wariancja z danych x wynosi: {variance_x}')\n",
    "\n",
    "standard_deviation_x = np.std(x, ddof=1)\n",
    "print(f'Odchylenie standardowe z danych x wynosi: {standard_deviation_x}')"
   ]
  },
  {
   "cell_type": "code",
   "execution_count": 6,
   "id": "2c0e323a",
   "metadata": {},
   "outputs": [
    {
     "name": "stdout",
     "output_type": "stream",
     "text": [
      "Średnia z danych x2 wynosi: 2.9968749551751586\n",
      "Mediana z danych x2 wynosi: 3.004514798651262\n",
      "Moda z danych x2 wynosi: ModeResult(mode=array([-0.72323705]), count=array([1]))\n",
      "Q0: -0.7232370504480565\n",
      "Q1: 2.333496814126106\n",
      "Q2: 3.004514798651262\n",
      "Q3: 3.6572075122218655\n",
      "Q4: 7.714575387790645\n",
      "Zakres z danych x2 wynosi: 8.437812438238701\n",
      "Rozstęp międzykwartlany z danych x2 wynosi: 1.3237106980957596\n",
      "Wariancja z danych x2 wynosi: 0.9954870582746752\n",
      "Odchylenie standardowe z danych x2 wynosi: 0.997740977546114\n"
     ]
    },
    {
     "name": "stderr",
     "output_type": "stream",
     "text": [
      "C:\\Users\\Marcin\\AppData\\Local\\Temp\\ipykernel_13300\\1035375272.py:7: FutureWarning: Unlike other reduction functions (e.g. `skew`, `kurtosis`), the default behavior of `mode` typically preserves the axis it acts along. In SciPy 1.11.0, this behavior will change: the default value of `keepdims` will become False, the `axis` over which the statistic is taken will be eliminated, and the value None will no longer be accepted. Set `keepdims` to True or False to avoid this warning.\n",
      "  moda_x2 = stats.mode(x2)\n"
     ]
    }
   ],
   "source": [
    "mean_x2 = np.mean(x2)\n",
    "print(f'Średnia z danych x2 wynosi: {mean_x2}')\n",
    "\n",
    "median_x2 = np.median(x2)\n",
    "print(f'Mediana z danych x2 wynosi: {median_x2}')\n",
    "\n",
    "moda_x2 = stats.mode(x2)\n",
    "print(f'Moda z danych x2 wynosi: {moda_x2}')\n",
    "\n",
    "q0_x2 = np.quantile(x2, 0.0)\n",
    "q1_x2 = np.quantile(x2, 0.25)\n",
    "q3_x2 = np.quantile(x2, 0.75)\n",
    "q4_x2 = np.quantile(x2, 1.0)\n",
    "print(f'Q0: {q0_x2}')\n",
    "print(f'Q1: {q1_x2}')\n",
    "print(f'Q2: {median_x2}')\n",
    "print(f'Q3: {q3_x2}')\n",
    "print(f'Q4: {q4_x2}')\n",
    "\n",
    "range_x2 = max(x2) - min(x2)\n",
    "print(f'Zakres z danych x2 wynosi: {range_x2}')\n",
    "\n",
    "iqr_x2 = q3_x2 - q1_x2\n",
    "print(f'Rozstęp międzykwartlany z danych x2 wynosi: {iqr_x2}')\n",
    "\n",
    "variance_x2 = np.var(x2, ddof=1)\n",
    "print(f'Wariancja z danych x2 wynosi: {variance_x2}')\n",
    "\n",
    "standard_deviation_x2 = np.std(x2, ddof=1)\n",
    "print(f'Odchylenie standardowe z danych x2 wynosi: {standard_deviation_x2}')"
   ]
  },
  {
   "cell_type": "markdown",
   "id": "643599e7",
   "metadata": {},
   "source": [
    "Opisz różnice pomiędzy statystkami"
   ]
  },
  {
   "cell_type": "markdown",
   "id": "930ad3a0",
   "metadata": {},
   "source": [
    "Dane ze zbiorów X dla 100 oraz x2 dla 10000"
   ]
  }
 ],
 "metadata": {
  "kernelspec": {
   "display_name": "Python 3 (ipykernel)",
   "language": "python",
   "name": "python3"
  },
  "language_info": {
   "codemirror_mode": {
    "name": "ipython",
    "version": 3
   },
   "file_extension": ".py",
   "mimetype": "text/x-python",
   "name": "python",
   "nbconvert_exporter": "python",
   "pygments_lexer": "ipython3",
   "version": "3.10.5"
  }
 },
 "nbformat": 4,
 "nbformat_minor": 5
}
