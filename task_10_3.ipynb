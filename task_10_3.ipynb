{
 "cells": [
  {
   "cell_type": "code",
   "execution_count": 3,
   "id": "85b6b005",
   "metadata": {},
   "outputs": [],
   "source": [
    "# manipulacja danymi\n",
    "import numpy as np\n",
    "import pandas as pd\n",
    "\n",
    "# wizualizacja danych\n",
    "import matplotlib.pyplot as plt\n",
    "import seaborn as sns\n",
    "\n",
    "# statystyczna analiza danych\n",
    "from scipy import stats\n",
    "\n",
    "# przygotowanie danych\n",
    "from sklearn.preprocessing import StandardScaler, MinMaxScaler"
   ]
  },
  {
   "cell_type": "markdown",
   "id": "515f754d",
   "metadata": {},
   "source": [
    "Stwórz dane z rozkładu normalnego o średniej 3 i odchyleniu standardowym 1 dla 100 oraz 10 000. "
   ]
  },
  {
   "cell_type": "code",
   "execution_count": 4,
   "id": "15675156",
   "metadata": {},
   "outputs": [
    {
     "data": {
      "text/plain": [
       "array([3.49157043, 3.10774273, 2.76190622, 3.76351421, 3.81372743,\n",
       "       2.48001983, 4.22456907, 3.45755942, 2.86413271, 2.89503558,\n",
       "       3.0190179 , 3.90565717, 2.85150162, 3.38454061, 2.17501633,\n",
       "       2.20128307, 6.25968497, 3.2764911 , 4.79025467, 3.11520977,\n",
       "       1.02866899, 2.34698115, 3.21750434, 3.45820148, 3.17271372,\n",
       "       2.02239565, 2.64256456, 3.11736564, 4.13964968, 3.23675565,\n",
       "       2.42097075, 4.05174569, 3.05599047, 1.48378471, 2.8317996 ,\n",
       "       4.32824091, 2.55640614, 3.20680961, 4.84308154, 3.47394056,\n",
       "       4.30373273, 3.08442618, 3.67082474, 3.94535034, 3.65713921,\n",
       "       2.54587362, 3.7010462 , 2.498675  , 1.87412936, 2.31964141,\n",
       "       3.48429644, 3.3259426 , 3.24182716, 2.44046327, 1.16441525,\n",
       "       3.855252  , 3.06358787, 3.69987254, 2.55414614, 3.60640797,\n",
       "       2.76067894, 1.7454093 , 1.98298257, 2.21065139, 3.34694001,\n",
       "       4.34274712, 3.22660358, 3.06276852, 2.08994578, 1.67938054,\n",
       "       3.36892275, 3.49811083, 3.99182886, 3.10321685, 2.30196139,\n",
       "       2.93675636, 1.38926081, 3.15647476, 2.53968535, 3.4972438 ,\n",
       "       3.16812769, 2.53524626, 4.3058773 , 3.28345471, 4.16034332,\n",
       "       1.89458767, 3.68564527, 2.83096594, 3.57733817, 1.17403532,\n",
       "       2.44524679, 4.30160879, 2.95838792, 3.91480686, 2.84009511,\n",
       "       2.89984216, 4.29370864, 1.78498529, 2.18670634, 4.22664304])"
      ]
     },
     "execution_count": 4,
     "metadata": {},
     "output_type": "execute_result"
    }
   ],
   "source": [
    "x = np.random.normal(3,1,100)\n",
    "x"
   ]
  },
  {
   "cell_type": "code",
   "execution_count": 5,
   "id": "46edc700",
   "metadata": {},
   "outputs": [
    {
     "data": {
      "text/plain": [
       "array([2.2919404 , 4.46694984, 4.67450271, ..., 3.79245156, 5.09106708,\n",
       "       3.61156384])"
      ]
     },
     "execution_count": 5,
     "metadata": {},
     "output_type": "execute_result"
    }
   ],
   "source": [
    "x2= np.random.normal(3,1,10000)\n",
    "x2"
   ]
  },
  {
   "cell_type": "markdown",
   "id": "4fa97533",
   "metadata": {},
   "source": [
    "Na podstawie tych sztucznie stworzonych zbiorów oblicz statystyki poznane w module statystki opisowej. "
   ]
  },
  {
   "cell_type": "code",
   "execution_count": 6,
   "id": "0be1101a",
   "metadata": {},
   "outputs": [
    {
     "name": "stdout",
     "output_type": "stream",
     "text": [
      "Średnia z danych x wynosi: 3.092102778008296\n",
      "Mediana z danych x wynosi: 3.1162877038827723\n",
      "Q0: 1.0286689879861675\n",
      "Q1: 2.5261034424316975\n",
      "Q2: 3.1162877038827723\n",
      "Q3: 3.660560588530127\n",
      "Q4: 6.259684965199973\n",
      "Zakres z danych x wynosi: 5.231015977213806\n",
      "Rozstęp międzykwartlany z danych x wynosi: 1.1344571460984296\n",
      "Wariancja z danych x wynosi: 0.7795277491084392\n",
      "Odchylenie standardowe z danych x wynosi: 0.8829086867329142\n"
     ]
    }
   ],
   "source": [
    "mean_x = np.mean(x)\n",
    "print(f'Średnia z danych x wynosi: {mean_x}')\n",
    "\n",
    "median_x = np.median(x)\n",
    "print(f'Mediana z danych x wynosi: {median_x}')\n",
    "\n",
    "q0_x = np.quantile(x, 0.0)\n",
    "q1_x = np.quantile(x, 0.25)\n",
    "q3_x = np.quantile(x, 0.75)\n",
    "q4_x = np.quantile(x, 1.0)\n",
    "print(f'Q0: {q0_x}')\n",
    "print(f'Q1: {q1_x}')\n",
    "print(f'Q2: {median_x}')\n",
    "print(f'Q3: {q3_x}')\n",
    "print(f'Q4: {q4_x}')\n",
    "\n",
    "range_x = max(x) - min(x)\n",
    "print(f'Zakres z danych x wynosi: {range_x}')\n",
    "\n",
    "iqr_x = q3_x - q1_x\n",
    "print(f'Rozstęp międzykwartlany z danych x wynosi: {iqr_x}')\n",
    "\n",
    "variance_x = np.var(x, ddof=1)\n",
    "print(f'Wariancja z danych x wynosi: {variance_x}')\n",
    "\n",
    "standard_deviation_x = np.std(x, ddof=1)\n",
    "print(f'Odchylenie standardowe z danych x wynosi: {standard_deviation_x}')"
   ]
  },
  {
   "cell_type": "code",
   "execution_count": 7,
   "id": "2c0e323a",
   "metadata": {},
   "outputs": [
    {
     "name": "stdout",
     "output_type": "stream",
     "text": [
      "Średnia z danych x2 wynosi: 2.9798232357863546\n",
      "Mediana z danych x2 wynosi: 2.984954951903128\n",
      "Q0: -0.5913631165173459\n",
      "Q1: 2.3099371789639345\n",
      "Q2: 2.984954951903128\n",
      "Q3: 3.6531097411316553\n",
      "Q4: 6.434511361266924\n",
      "Zakres z danych x2 wynosi: 7.025874477784269\n",
      "Rozstęp międzykwartlany z danych x2 wynosi: 1.3431725621677209\n",
      "Wariancja z danych x2 wynosi: 0.9903273355063671\n",
      "Odchylenie standardowe z danych x2 wynosi: 0.9951519157929442\n"
     ]
    }
   ],
   "source": [
    "mean_x2 = np.mean(x2)\n",
    "print(f'Średnia z danych x2 wynosi: {mean_x2}')\n",
    "\n",
    "median_x2 = np.median(x2)\n",
    "print(f'Mediana z danych x2 wynosi: {median_x2}')\n",
    "\n",
    "q0_x2 = np.quantile(x2, 0.0)\n",
    "q1_x2 = np.quantile(x2, 0.25)\n",
    "q3_x2 = np.quantile(x2, 0.75)\n",
    "q4_x2 = np.quantile(x2, 1.0)\n",
    "print(f'Q0: {q0_x2}')\n",
    "print(f'Q1: {q1_x2}')\n",
    "print(f'Q2: {median_x2}')\n",
    "print(f'Q3: {q3_x2}')\n",
    "print(f'Q4: {q4_x2}')\n",
    "\n",
    "range_x2 = max(x2) - min(x2)\n",
    "print(f'Zakres z danych x2 wynosi: {range_x2}')\n",
    "\n",
    "iqr_x2 = q3_x2 - q1_x2\n",
    "print(f'Rozstęp międzykwartlany z danych x2 wynosi: {iqr_x2}')\n",
    "\n",
    "variance_x2 = np.var(x2, ddof=1)\n",
    "print(f'Wariancja z danych x2 wynosi: {variance_x2}')\n",
    "\n",
    "standard_deviation_x2 = np.std(x2, ddof=1)\n",
    "print(f'Odchylenie standardowe z danych x2 wynosi: {standard_deviation_x2}')"
   ]
  },
  {
   "cell_type": "markdown",
   "id": "643599e7",
   "metadata": {},
   "source": [
    "Opisz różnice pomiędzy statystkami"
   ]
  },
  {
   "cell_type": "markdown",
   "id": "930ad3a0",
   "metadata": {},
   "source": [
    "Funkcja dla ładniejszego wyglądu:"
   ]
  },
  {
   "cell_type": "code",
   "execution_count": 13,
   "id": "b77d743a",
   "metadata": {},
   "outputs": [],
   "source": [
    "def distribution(y):\n",
    "    mean_y = np.mean(y)\n",
    "    print(f'Średnia z danych wynosi: {mean_y}')\n",
    "\n",
    "    median_y = np.median(y)\n",
    "    print(f'Mediana z danych wynosi: {median_y}')\n",
    "\n",
    "    q0_y = np.quantile(y, 0.0)\n",
    "    q1_y = np.quantile(y, 0.25)\n",
    "    q3_y = np.quantile(y, 0.75)\n",
    "    q4_y = np.quantile(y, 1.0)\n",
    "    print(f'Q0: {q0_y}')\n",
    "    print(f'Q1: {q1_y}')\n",
    "    print(f'Q2: {median_y}')\n",
    "    print(f'Q3: {q3_y}')\n",
    "    print(f'Q4: {q4_y}')\n",
    "\n",
    "    range_y = max(y) - min(y)\n",
    "    print(f'Zakres z danych y wynosi: {range_y}')\n",
    "\n",
    "    iqr_y = q3_y - q1_y\n",
    "    print(f'Rozstęp międzykwartlany z danych wynosi: {iqr_y}')\n",
    "\n",
    "    variance_y = np.var(y, ddof=1)\n",
    "    print(f'Wariancja z danych wynosi: {variance_y}')\n",
    "\n",
    "    standard_deviation_y = np.std(y, ddof=1)\n",
    "    print(f'Odchylenie standardowe z danych wynosi: {standard_deviation_y}')"
   ]
  },
  {
   "cell_type": "code",
   "execution_count": 14,
   "id": "2111a503",
   "metadata": {},
   "outputs": [
    {
     "name": "stdout",
     "output_type": "stream",
     "text": [
      "Średnia z danych wynosi: 3.092102778008296\n",
      "Mediana z danych wynosi: 3.1162877038827723\n",
      "Q0: 1.0286689879861675\n",
      "Q1: 2.5261034424316975\n",
      "Q2: 3.1162877038827723\n",
      "Q3: 3.660560588530127\n",
      "Q4: 6.259684965199973\n",
      "Zakres z danych y wynosi: 5.231015977213806\n",
      "Rozstęp międzykwartlany z danych wynosi: 1.1344571460984296\n",
      "Wariancja z danych wynosi: 0.7795277491084392\n",
      "Odchylenie standardowe z danych wynosi: 0.8829086867329142\n"
     ]
    }
   ],
   "source": [
    "distribution(x)"
   ]
  },
  {
   "cell_type": "code",
   "execution_count": 15,
   "id": "56e8be82",
   "metadata": {},
   "outputs": [
    {
     "name": "stdout",
     "output_type": "stream",
     "text": [
      "Średnia z danych wynosi: 2.9798232357863546\n",
      "Mediana z danych wynosi: 2.984954951903128\n",
      "Q0: -0.5913631165173459\n",
      "Q1: 2.3099371789639345\n",
      "Q2: 2.984954951903128\n",
      "Q3: 3.6531097411316553\n",
      "Q4: 6.434511361266924\n",
      "Zakres z danych y wynosi: 7.025874477784269\n",
      "Rozstęp międzykwartlany z danych wynosi: 1.3431725621677209\n",
      "Wariancja z danych wynosi: 0.9903273355063671\n",
      "Odchylenie standardowe z danych wynosi: 0.9951519157929442\n"
     ]
    }
   ],
   "source": [
    "distribution(x2)"
   ]
  },
  {
   "cell_type": "markdown",
   "id": "051f53e8",
   "metadata": {},
   "source": [
    "Wnioski: Różnice między obydwoma zbiorami oscylują na poziomie dziesiętnych lub setnych części i są do siebie nezwykle zbliżone."
   ]
  }
 ],
 "metadata": {
  "kernelspec": {
   "display_name": "Python 3 (ipykernel)",
   "language": "python",
   "name": "python3"
  },
  "language_info": {
   "codemirror_mode": {
    "name": "ipython",
    "version": 3
   },
   "file_extension": ".py",
   "mimetype": "text/x-python",
   "name": "python",
   "nbconvert_exporter": "python",
   "pygments_lexer": "ipython3",
   "version": "3.10.5"
  }
 },
 "nbformat": 4,
 "nbformat_minor": 5
}
